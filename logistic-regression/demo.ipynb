{
 "cells": [
  {
   "cell_type": "markdown",
   "metadata": {},
   "source": [
    "# Classification with Logistic Regression\n",
    "\n",
    "In today's exercise, we'll introduce **logistic regression** as a mechanism for performing _classification tasks_. This exercise walks through a conceptual example discussd in chapter 4 of [this book](http://www-bcf.usc.edu/~gareth/ISL/ISLR%20Sixth%20Printing.pdf), and the data was extracted from the `ISLR` R package (specifically, the `Default` dataset). The question of interest for this exercise is, \n",
    "\n",
    "> Can we predict which individuals will default on their credit card payments?\n"
   ]
  },
  {
   "cell_type": "markdown",
   "metadata": {},
   "source": [
    "# Set Up (0 minutes)"
   ]
  },
  {
   "cell_type": "code",
   "execution_count": 1,
   "metadata": {
    "collapsed": false
   },
   "outputs": [],
   "source": [
    "# Set up\n",
    "import numpy as np\n",
    "from __future__ import division # division\n",
    "import pandas as pd\n",
    "import seaborn as sns # for visualiation\n",
    "from scipy.stats import ttest_ind # t-tests\n",
    "import statsmodels.formula.api as smf # linear modeling\n",
    "import statsmodels.api as sm\n",
    "import matplotlib.pyplot as plt # plotting\n",
    "import matplotlib\n",
    "from sklearn import metrics\n",
    "matplotlib.style.use('ggplot')\n",
    "%matplotlib inline\n",
    "\n",
    "# Load the data, replace strings as numeric\n",
    "df = pd.read_csv('./data/payment-default.csv')\n",
    "df.default = df.default.replace(['Yes', 'No'], [1, 0]).astype(int)\n",
    "df.student = df.student.replace(['Yes', 'No'], [1, 0]).astype(int)"
   ]
  },
  {
   "cell_type": "markdown",
   "metadata": {},
   "source": [
    "# Data Exploration (15 minutes)\n",
    "\n",
    "In this first section, you'll explore your dataset to get a better handle on the distributions. The data for this exercise has **10,000** observations (people), who did, or did not, default on their credit card payment. The data has the following information for each person:\n",
    "\n",
    "- `default`: This is our **outcome** of interest, and is **binary** (yes/no)\n",
    "- `student`: This variable indicates if each person is a students (yes/no)\n",
    "- `balance`: Current balance on the credit card (**continuous**)\n",
    "- `income`: Annual income of the individual (**continuous**)\n",
    "\n",
    "In this section, you'll write the code necessary to answer the following questions:\n",
    "\n",
    "- What is the **default rate** in the dataset (# of defaults / total)\n",
    "- What is the distribution of credit card **balances** (for those who default, and those who do not)?\n",
    "- What is the relationship between `balance` and `income` (show a scatter-plot, different colors for default/no default)?\n"
   ]
  },
  {
   "cell_type": "code",
<<<<<<< HEAD
   "execution_count": 19,
=======
   "execution_count": 5,
>>>>>>> 23f070dbc3a7bb0b3336da9e479667434ce5adbd
   "metadata": {
    "collapsed": false
   },
   "outputs": [
    {
     "name": "stdout",
     "output_type": "stream",
     "text": [
      "default rate:  3.33 %\n"
     ]
    }
   ],
   "source": [
    "# What is the **default rate** in the dataset (# of defaults / total)\n",
    "defaults = sum(df.default)\n",
    "total = df.shape[0]\n",
    "rate = defaults / total *100\n",
    "\n",
<<<<<<< HEAD
    "print(\"default rate: \",rate,\"%\")\n"
=======
    "print(\"default rate: \",rate,\"%\")\n",
    "\n"
>>>>>>> 23f070dbc3a7bb0b3336da9e479667434ce5adbd
   ]
  },
  {
   "cell_type": "code",
<<<<<<< HEAD
   "execution_count": 41,
=======
   "execution_count": 7,
>>>>>>> 23f070dbc3a7bb0b3336da9e479667434ce5adbd
   "metadata": {
    "collapsed": false
   },
   "outputs": [],
   "source": [
    "# What is the distribution of balances (for those who default, and those who don't)?\n",
    "\n",
    "# You may want to create subsets of the data for those who defaulted, and those who did not\n",
    "\n",
    "# Draw histograms of the distribution (perhaps overlapping histogram on the same chart)\n"
   ]
  },
  {
   "cell_type": "code",
   "execution_count": 42,
   "metadata": {
    "collapsed": false
   },
   "outputs": [],
   "source": [
    "# What is the relationship between balalance and income (show a scatter-plot, different colors for default/no default)?\n",
    "# Hint: http://stackoverflow.com/questions/21654635/scatter-plots-in-pandas-pyplot-how-to-plot-by-category\n"
   ]
  },
  {
   "cell_type": "markdown",
   "metadata": {},
   "source": [
    "List pertinent observations from the above analysis:\n",
    "\n",
    "> Your insights here..."
   ]
  },
  {
   "cell_type": "markdown",
   "metadata": {},
   "source": [
    "# A Linear Approach (15 minutes)\n",
    "\n",
    "Before introducing a new estimation approach, we'll observe the limitations of using a linear estimation of a binary outcome. In this section, you'll do the following:\n",
    "\n",
    "- Fit a **linear model** of the dependent variable (`default`) on _one_ indepdendent variable (`balance`)\n",
    "- Generate predictions using your model (this can be interpreted as _probability of default_)\n",
    "- Visualize the results (comparing `balance` to the predicted `default` rate)\n",
    "- Interpret the **coefficients** and assess the **model fit**"
   ]
  },
  {
   "cell_type": "code",
   "execution_count": 43,
   "metadata": {
    "collapsed": false
   },
   "outputs": [
    {
     "name": "stdout",
     "output_type": "stream",
     "text": [
      "                            OLS Regression Results                            \n",
      "==============================================================================\n",
      "Dep. Variable:                default   R-squared:                       0.123\n",
      "Model:                            OLS   Adj. R-squared:                  0.122\n",
      "Method:                 Least Squares   F-statistic:                     1397.\n",
      "Date:                Mon, 13 Feb 2017   Prob (F-statistic):          2.77e-286\n",
      "Time:                        14:11:39   Log-Likelihood:                 3644.8\n",
      "No. Observations:               10000   AIC:                            -7286.\n",
      "Df Residuals:                    9998   BIC:                            -7271.\n",
      "Df Model:                           1                                         \n",
      "Covariance Type:            nonrobust                                         \n",
      "==============================================================================\n",
      "                 coef    std err          t      P>|t|      [95.0% Conf. Int.]\n",
      "------------------------------------------------------------------------------\n",
      "Intercept     -0.0752      0.003    -22.416      0.000        -0.082    -0.069\n",
      "balance        0.0001   3.47e-06     37.374      0.000         0.000     0.000\n",
      "==============================================================================\n",
      "Omnibus:                     8547.967   Durbin-Watson:                   2.023\n",
      "Prob(Omnibus):                  0.000   Jarque-Bera (JB):           180810.806\n",
      "Skew:                           4.243   Prob(JB):                         0.00\n",
      "Kurtosis:                      22.025   Cond. No.                     1.93e+03\n",
      "==============================================================================\n",
      "\n",
      "Warnings:\n",
      "[1] Standard Errors assume that the covariance matrix of the errors is correctly specified.\n",
      "[2] The condition number is large, 1.93e+03. This might indicate that there are\n",
      "strong multicollinearity or other numerical problems.\n"
     ]
    }
   ],
   "source": [
    "# Fit a linear model of the dependent variable (default) on balance\n",
    "model = smf.ols(formula='default ~ balance', data=df)\n",
    "results = model.fit()\n",
    "print(results.summary())\n"
   ]
  },
  {
   "cell_type": "code",
   "execution_count": 44,
   "metadata": {
    "collapsed": false
   },
   "outputs": [],
   "source": [
    "# Generate predictions using your model (this can be interpreted as probability of default)\n",
    "df['prediction'] = results.predict()"
   ]
  },
  {
   "cell_type": "code",
   "execution_count": 66,
   "metadata": {
    "collapsed": false
   },
   "outputs": [
    {
     "data": {
      "image/png": "iVBORw0KGgoAAAANSUhEUgAAAhkAAAFoCAYAAAD6jOlyAAAABHNCSVQICAgIfAhkiAAAAAlwSFlz\nAAAPYQAAD2EBqD+naQAAIABJREFUeJzs3XucJHV97/9XVd+me6Z7LrsLLDdBRUGjRPRE0d8CepKz\nScT8DGa/aqIPufz4AbucJJgTfMTjJTlHURZ1fwnMclNA3Y3yjSAKJLIQCCx44aJySTwiXgICwrLM\nTvd09/St6vdH9X26Z2ega4bdeT8fj3lMd9W3q771qerZz37r+/2W4/s+IiIiIoPmLncFREREZP+k\nJENERERCoSRDREREQqEkQ0REREKhJENERERCoSRDREREQqEkQ0REREKhJENERERCoSRDREREQhEN\na8PGmARwP7DJWntXnzLvBD4FvBL4OfBxa+2NYdVJRERElk4oLRn1BONrwGvmKfN64Drgi8CxwBXA\nN4wxrwujTiIiIrK0Bt6SYYw5BvjHBRR9P/Cv1trJ+vutxpg/Agzw8KDrJSIiIksrjNslJwL/CnwM\nKMxT7hog3mP5aAh1EhERkSU28CTDWntZ47UxZr5yP21/b4x5LfBfga2DrpOIiIgsvdA6fi6GMWY1\nQf+Mndbaby/wY6uA9cCvgNmQqiYiIrI/GgKOAG4Bdoe1k2VPMowxBwK3Aj6wYREfXQ9sD6VSIiIi\nK8OfsbB+lC/IsiYZxphDgNuBGnCStXYx2dSvAGZmZqhUKiHUbt8RiUTIZDJks1lqtdpyV2fZKA4t\nikVAcQgoDi2KRSAWizEyMgL1f0vDsmxJhjEmBXwHqABvt9buWuQmZgEqlQrFYnHQ1dunxGIxAEql\n0opOuBSHFsUioDgEFIcWxWKOULsbLGmSUb81Mm2tnQX+J3AkcBLg1tcBFK212aWsl4iIiAxe2NOK\n+13vnyaYBwPgFCAJ/AB4qu3n/wu5TiIiIrIEQm3JsNZGut67ba+PCXPfIiIisrz0gDQREREJhZIM\nERERCYWSDBEREQmFkgwREREJhZIMERERCYWSDBEREQmFkgwREREJhZIMERERCYWSDBEREQmFkgwR\nEREJhZIMERERCYWSDBEREQmFkgwREREJhZIMERERCYWSDBEREQmFkgwREREJhZIMERERCYWSDBER\nEQmFkgwREREJhZIMERERCYWSDBEREQmFkgwREREJhZIMERERCYWSDBEREQmFkgwREREJhZIMERER\nCYWSDBEREQmFkgwREREJhZIMERERCYWSDBEREQmFkgwREREJhZIMERERCUU0rA0bYxLA/cAma+1d\nfcq8AbgUeB3wCHCOtfaHYdVJRERElk4oLRn1BONrwGvmKZMCbgbuBI4DvgfcbIxJhlEnERERWVoD\nb8kwxhwD/OMCir4PKFhrP1J//5fGmD8ENgBfGXS9REREZGmF0ZJxIvCvwPGAM0+5NwN3dy27p/45\nERER2ccNvCXDWntZ47UxZr6iawn6YbR7BnjtoOsksliRapX41BRONoufyVAeH6cWjfZdvphtDEqs\nWCQ+NQXZLIyOUh4bo5IM7jY65TK5f/934rt3Ex8exi+XIZGgPD6OH4nMqZdTqxF//vlg2cQETrkM\n+Tx+Oo0fjeJms8Fr18WdnYVCAX9sjNLERMcxddfJi8dxCgWcaBS/WsWJRCCXC9ZFIrhTU/hjYziV\nSrC/TCbYx549MDyMH483P+eUy8F+02n8WKxZD69ef2d6Oqh7pYJfrcLQEE61yp6f/5x4NEo8n4eR\nEfxKBcd18ePxoNKzs0H9olF818Upl3HyefyxMfD91n4zGfxEAqdS6VwGOL6Pk8sF76PRjrq51WoQ\nj0wGr75Pp1yG+nE169p9fKUSfq2GE4sFMUul8BMJ/EoF13HwolGcYnHOejwP3/NwfT9YnsngJRJM\n//KXxAsFYpkMfj323sQEbrncPCe+6+Ls2YOfyYDrBjFtXAON8z4+DrUaTjbbPEeNGHrU/+faqE88\nHmyzUsHJ5WB4OLgmZmdxXBdvZAQ3n29eL5XRUSL5PE6pBPVjcSqVZizL4+MAret3bAxqNdzpaUil\n8IaGKI+O9v2uOrUa8aefJvvII8RHR/HHx6kmEi/4uxv2d3x/sJzRSAGlrmUlYO4ZF1lCkWqV1M6d\njJx5Jk6xiJ9MMnPllRTf+laS3/3unOWFdevm/GHpt41eZV+IWLFI8q67GN60qbn9/OQknHACXixG\nomvfhc2bid1yC9H3vIfqkUcy+gd/0Fw3/S//QvSXv2R440Yq69ZRede7SJ1/fudnb7yR2M6d5Ccn\niV9/PfGbbgqO6YorKJxwArVotHedtm7Fy2QYuvpqKuvXz9mu8/jj+Icf3nd/hc2bqR1+OM7sLCOn\nntqx3fh110G53Kxvo+6xW26h9MEP4kxNEb/ppp77jd1yC5X16/EOOACAxFe/Svnd78ZbvZr0+99P\nZd06Smecgfvssx2fzV96KX4y2axL+eSTKZ9yypzzEL/++o66tX/em5hg6IorqKxf36xrr/24jz6K\nv3btnLrXDjuM6L33Ujv2WJxsluE///OO9ZVjjyX22GNz6uQ+9hipCy4I3m/Zgl+rEUkmO8p1xz52\n440QjzePsd/14R1wAJEHH8Q76iiGN26cU9+hL36xec00ynuxGLE9e+bUszY2hlupAMyJy8wVV+BN\nTJD5kz+hsm5dUK/zzuvYn/vyl1M65pi539UrrsDPZEi/730d11HhxBM7Eo2FfnfD/o7vLxzf90Pb\nuDHGA07qNbrEGHMT8JC19qNtyz4LHG2tffcCNn8c8EA2m6VU6s5VVpZoNMr4+DhTU1NUq9Xlrs6y\nGVQcYk8/zehb3oJTLDaX+ckk2Z07yaxbN2f59Pe/T2Xt2gVto1fZFyL+n/9J5oQTetbRj8V67nvm\n6qsZOe00srfdxujb3tZcN33PPWR+93dxikVyX/86I6ed1vOz6fe9r+N19zH1q9PMNdeA7/fcbva2\n25r77ru/a64BIP3e984pAzS326j7zNVXg+MwcuqpzWPuF4vGthv1m7nmGtLvfS+5r3+9uY1ex9Oo\ny3zxaq9bv3i013XBsbnmGrxDD8X99a97f+7OO8mceGLP7TXO+3zlus91rxj3q1O/+uL7HdfMzDXX\n4L385b2v4bvuwv3FL4L9zhP/eevyilf0/K62n7vm/nbupHz44c1lC/3uhv0dD1sikSCTyQC8EQht\nVOdypltPAgd1LTsIeHoxG6kHSYDxelPiSvdi4zDzs591/OEAgmbpbLbn8mg+z9iaNQvaRq+yL0T2\n4Yf71jGSSPRe53nB70Khc10+3yzfKNPrs92vu4+pb51qtebrOeva9t13f/XPz1emve7ddZ03Fm3b\n7qhr17Z7lVlovOaLx7zl+sWmVgtuQdVqvdfncr2Xt533ecv1ONd7vT5qtXnr27N8n++Tk8vNf820\nnaO+dem37V51yWZZ0/adXOh3N+zv+P5iOZOM7wMf6Vr2NuBTi9mIWjLUktEwsJaMkRH8ZHLO/1D8\nTKbn8urwMLt27VrQNnqVfSHiferiZzJUY7He61w3+J1KdWzLHx5ulm+U6fXZ7tfdx9S3TpEI+H7v\ndW377ru/SGTO8XeXaa+777rgOB3H3DcWjW3X69d4376NnsfTeL+AeM0Xj3n30y82kQh+KhX87rU+\nne69vO28z1uux7ne6/URicxbX9pazJvl+10v6TR+/TsyX/znrct812Kbxnem/Tu50O9u2N/xsLW1\nZIRqSWf8NMYcaIwZqr/9BjBmjNlijDnGGPP3BP007GK2WavVqFQqK/qn8Q9qtVpd9rrsD3EojY0x\nc+WV+MmgE6WfSjFz5ZWUJiZ6Lx8bW/g2epR9IT/l8XHyk5Md289PTlIeG+u578LmzSS2bye/dSt+\npdKxzq9UguXJJImrrqKwefPcz151VXMfiW3bWsd0xRXNY+pZp61b8aNREtu29dxu7IYb5t1fYfNm\n/KHgT0b3dhPbtnXUt/G6Ub/8li1995vYvp3C5s3NvyOJ7dvJX3xx0LGyvi1gzmfzl17aUZfE9u09\nz0N33do/7yeTzXo16tqrXOzmm3vW3U8kiN18c3CM//APc9fPzvasU+MzfipFfssW3Pvum1OuO/aJ\nq67qOMZ+1wdA7Oabm9dRd33br5lm3J94omc9eeKJ5nnp3tfMFVfg1f9xT1x1VdC3pGt/3shI7+/q\nFVfgDw3NuY5KExMv6Lsb9nc87J9ajxbCMITdJ6MGvL3RJ6PeR+NUa+1X6u/fBFwOHA08BJxlrX1o\ngZs/DnhgamqKYleT1UoTi8VYs2YNu3btolKpLHd1ls0g47DPjC7Zs6c5cqF9dEnc90lMT+Pt3h30\n8i+Xgw58ExPzjy7J5fDHx4Me/TMzc0eXRCK4xeL8o0va6jRndEk0Gow8SKfxolHcPXvwR0dxqtXO\n/U1NBSMXYjF8z2uNLmmMeInHg9EO+XxrdEk226x7++iS5n4XOrqkUsGZmcEfHQVY3OiSRt3qMdrr\n6JJoFL9S6T26pFwO6h6LwcwMJJNBElSt4sLeR5dAa7+JBG6h0Kpz++iSSqVZzo9EgtEl6TREIq3R\nJbFY67z3G10SieA5zuJHlxQKzf33HV1SLOKNjlKemAiu7xcxuiTRGEWVyVCamFixo0uSyWTj1nKo\nfTJCTTJCpiSjTklGQHFoUSwCikNAcWhRLAJLlWToAWkiIiISCiUZIiIiEgolGSIiIhIKJRkiIiIS\nCiUZIiIiEgolGSIiIhIKJRkiIiISCiUZIiIiEgolGSIiIhIKJRkiIiISCiUZIiIiEgolGSIiIhIK\nJRkiIiISCiUZIiIiEgolGSIiIhIKJRkiIiISCiUZIiIiEgolGSIiIhIKJRkiIiISCiUZIiIiEgol\nGSIiIhIKJRkiIiISCiUZIiIiEgolGSIiIhIKJRkiIiISCiUZIiIiEgolGSIiIhIKJRkiIiISCiUZ\nIiIiEgolGSIiIhIKJRkiIiISCiUZIiIiEgolGSIiIhKK6KA3aIxJAFuBU4AC8Hlr7Rf6lP1j4NPA\nYcCPgL+w1v5o0HUSERGRpRdGS8bngOOAk4CNwCeNMad0FzLGvAbYTpBkvB54ELjZGDMUQp1ERERk\niQ00yTDGpIAzgD+31j5orf0WsBk4t0fx/wY8Yq3dbq39JfA3wEHAawZZJxEREVkeg75dcmx9m99r\nW3Y38NEeZXcDrzXGvLVe/nRgGvj5gOskIiIiy2DQt0vWAs9Za6tty54Bhowxq7rKXgv8M0ESUiZo\n8fgTa+30gOskIiIiy2DQLRkpoNS1rPE+0bV8FcHtkY3AD4BzgGuMMW+w1j630B1GIhFisdgLrO7+\nIRqNdvxeqRSHFsUioDgEFIcWxSIQiUSWZD+DjvIsc5OJxvtC1/ILgYestZcBGGPOAn4CnAZctNAd\nZjKZF1bT/dD4+PhyV+ElQXFoUSwCikNAcWhRLJbGoJOMJ4HVxhjXWuvVlx0EFK21e7rKvhH4+8Yb\na61vjHkQeNlidpjNZimVuhtPVpZoNMr4+DhTU1NUq9W9f2A/pTi0KBYBxSGgOLQoFoFEIrEk/0kf\ndJLxY6ACvAX4bn3ZOuC+HmWfYu5IklcD9y5mh7VajUqlsshq7p+q1apigeLQTrEIKA4BxaFlpcdi\nqW4XDXQv1tqiMeYrwGXGmNOBQ4G/Aj4EYIw5EJi21s4CVwJXG2PuJxhdciZwOPDlQdZJRERElkcY\nk3F9GHgAuB24GPh4fb4MgKcBA2CttQTzZ3wU+CFwPPD2xXT6FBERkZeugbeXWGuLBJ03T+uxzu16\nfzVw9aDrICIiIstPD0gTERGRUCjJEBERkVAoyRAREZFQKMkQERGRUCjJEBERkVAoyRAREZFQKMkQ\nERGRUCjJEBERkVAoyRAREZFQKMkQERGRUCjJEBERkVAoyRAREZFQKMkQERGRUCjJEBERkVAoyRAR\nEZFQKMkQERGRUCjJEBERkVAoyRAREZFQKMkQERGRUCjJEBERkVAoyRAREZFQKMkQERGRUCjJEBER\nkVAoyRAREZFQKMkQERGRUCjJEBERkVAoyRAREZFQKMkQERGRUCjJEBERkVAoyRAREZFQKMkQERGR\nUCjJEBERkVBEB71BY0wC2AqcAhSAz1trv9Cn7OvqZd8I/Az4C2vtvw26TiIiIrL0wmjJ+BxwHHAS\nsBH4pDHmlO5CxpgMsAN4BPgt4JvAN40xq0Ook4iIiCyxgbZkGGNSwBnAemvtg8CDxpjNwLnA9V3F\nTwVy1tpz6u//1hjzB8CbgO8Msl4iIiKy9AZ9u+TY+ja/17bsbuCjPcqeCHyrfYG19s0Dro+IiIgs\nk0EnGWuB56y11bZlzwBDxphV1trdbctfDtxrjLkc+CPgl8D/sNZ+d8B1EhERkWUw6CQjBZS6ljXe\nJ7qWjwAfAf4e+H3g/cAOY8yrrbVPLnSHkUiEWCz2Aqu7f4hGox2/VyrFoUWxCCgOAcWhRbEIRCKR\nJdnPoKM8y9xkovG+0LW8CvzIWvt39fcPGmP+G/BB4LML3WEmk3kh9dwvjY+PL3cVXhIUhxbFIqA4\nBBSHFsViaQw6yXgSWG2Mca21Xn3ZQUDRWrunq+zTwP/pWvYocNhidpjNZimVuhtPVpZoNMr4+DhT\nU1NUq9W9f2A/pTi0KBYBxSGgOLQoFoFEIrEk/0kfdJLxY6ACvAVo9K1YB9zXo+z3gRO6lh0NbF/M\nDmu1GpVKZZHV3D9Vq1XFAsWhnWIRUBwCikPLSo/FUt0uGuherLVFY8xXgMuMMacDhwJ/BXwIwBhz\nIDBtrZ0FLgPONcZ8giCx+BBwJLBtkHUSERGR5RHGZFwfBh4AbgcuBj5urW0MVX0aMADW2seB9QQj\nSx4G3gn8obX26RDqJCIiIkts4O0l1toicFr9p3ud2/X+ewSTb4mIiMh+Rg9IExERkVAoyRAREZFQ\nKMkQERGRUCjJEBERkVAoyRAREZFQKMkQERGRUCjJEBERkVAoyRAREZFQKMkQERGRUCjJEBERkVAo\nyRAREZFQKMkQERGRUCjJEBERkVAoyRAREZFQKMkQERGRUCjJEBERkVAoyRAREZFQKMkQERGRUCjJ\nEBERkVAoyRAREZFQKMkQERGRUCjJEBERkVAoyRAREZFQKMkQERGRUCjJEBERkVAoyRAREZFQKMkQ\nERGRUCjJEBERkVAoyRAREZFQKMkQERGRUCjJEBERkVAoyRAREZFQRAe9QWNMAtgKnAIUgM9ba7+w\nl88cATwMvNNae9eg6yQiIiJLL4yWjM8BxwEnARuBTxpjTtnLZy4FUiHURURERJbJQJMMY0wKOAP4\nc2vtg9babwGbgXPn+cyfASODrIeIiIgsv0G3ZBxLcAvme23L7gbe3KuwMWYV8Fng/wWcAddFRERE\nltGgk4y1wHPW2mrbsmeAoXpC0e0LwDXW2p8MuB4iIiKyzAbd8TMFlLqWNd4n2hcaY34XeCtw5ovZ\nYSQSIRaLvZhN7POi0WjH75VKcWhRLAKKQ0BxaFEsApFIZEn2M+goz9KVTLS9LzQWGGOGgMuAc6y1\n5Rezw0wm82I+vl8ZHx9f7iq8JCgOLYpFQHEIKA4tisXSGHSS8SSw2hjjWmu9+rKDgKK1dk9bud8B\njgSuM8a098X4F2PMl621Gxe6w2w2S6nU3XiyskSjUcbHx5mamqJare79A/spxaFFsQgoDgHFoUWx\nCCQSiSX5T/qgk4wfAxXgLcB368vWAfd1lfsBcFTXsscIRqbctpgd1mo1KpXK4mu6H6pWq4oFikM7\nxSKgOAQUh5aVHoulul000L1Ya4vGmK8AlxljTgcOBf4K+BCAMeZAYNpaOwv8ov2zxhiAp6y1zw2y\nTiIiIrI8wpiM68PAA8DtwMXAx+vzZQA8DZg+n/NDqIuIiIgsk4G3l1hri8Bp9Z/udX2TGmvt0nR1\nFRERkSWhB6SJiIhIKJRkiIiISCiUZIiIiEgolGSIiIhIKJRkiIiISCiUZIiIiEgolGSIiIhIKJRk\niIiISCiUZIiIiEgolGSIiIhIKJRkiIiISCiUZIiIiEgolGSIiIhIKJRkiIiISCiUZIiIiEgolGSI\niIhIKJRkiIiISCiUZIiIiEgolGSIiIhIKJRkiIiISCiiy10BERGRfVG1GmFqKk4265DJ+IyPl4lG\na8tdrZcUtWSIiIgsUrUaYefOFMcfP8YJJ4xx/PFj7NyZolqNLHfVXlKUZIiIiLSpViPs2pXk5z9P\nsWtXsmfiMDUV58wzRygWHQCKRYczzxxhaiq+1NV9SVOSISIiUrfQFops1mkmGA3FokM227lspVOS\nISIiUrfQFopMxieZ9DuWJZM+mUznspVOSYaIiKwIpVKUxx+Pc8cdWZ54Ik6pNHfsw0JbKMbHy1x5\n5Uwz0UilfK68cobx8XJ4B7AP0ugSERHZ73SP/BgZqbJzZ5KNG4cpFh2SSZ+tW/OceGKBRKLa/Fyj\nhaI90ejVQhGN1li3rsD3vlfV6JJ5qCVDRET2SdVqhGefTfKznw3z5JPD7N4ddNLs1a/iu98d4rrr\n4h23QTZuHOb55ztvgyymhSIarbFmTZFXvKLAmjVFJRg9qCVDRERe8hotE54HtZpLLgeJBHzmM0lu\nuilOMumzeXOBl7/c5eCDvTn9Ks46a4Srr57hpptaSUXjNsjata39qIVisJRkiIjIS061GmF6Os7s\nrEuhAEND8OCDLrGYw6ZNrVsemzcXKJdhx44455+f4pprZpiepme/Cr+rT2a/jpqNFoo1a8I8wpVB\nSYaIiCyrRitFqQSRiIPj+Dz1VIRf/SrC+eenmgnFrbdm+b3fy3S0UJx/foqrr55hx47gVkit5pBK\n0bNfxWGHec3lqZTP5GSeiQl11AyTkgwREVky7R0yV63yKRTc5m2JUsln8+YUf/3XRQoFp5lgQJBQ\nPPGE27OFwvOCZcmkTyTiMzTkceWVM81bJqmUzxVXzHDQQWV27sw29zcxUero9CmDN/AkwxiTALYC\npwAF4PPW2i/0KftO4FPAK4GfAx+31t446DqJiMjyqFYjPP98nOlpl1QKYjGf3/zGYWLC4wc/iHXc\n+piczPOxj+X55S+j+P7coaSO07uFwnV9UimfCy8sMDLiMTpaZt26cs9+FZkMrFmzhl27dlGpKMEI\nWxijSz4HHAecBGwEPmmMOaW7kDHm9cB1wBeBY4ErgG8YY14XQp1ERCRkjdEejz46zK9/Pcyzz6Z4\n6KEh3vrWMU46aZQTT8xw990xslkX13WbCQYELRKbNg0Tibg4DkQicye72rYtwWWX5TtGflx2WZ4j\njqjxb/+W5cQTy/zWb80SjdY08uMlYqAtGcaYFHAGsN5a+yDwoDFmM3AucH1X8fcD/2qtnay/32qM\n+SPAAA8Psl4iIjJ4pVKUqak4uZzD2JjPQw9FOOuskY5OmQcc4LFuXaXZZ6LROTOb7d05M5dz2LYt\nwQc/WGLz5kLzlkkq5WNMiWOPrdZveUAmA2NjZZLJyjJFQPZm0LdLjq1v83tty+4GPtqj7DVAryfJ\njA64TiIi8iKUSlGef76VTNRqDtkspNMwO+tzwQVJzjij1EwwgI6E4vTTS+zYEW8ur9UcMpnetz7S\naZ/16yt89asJNm0qctttWUolGB8P+lA0WiTah53KS9egk4y1wHPW2vYbXc8AQ8aYVdba3Y2F1tqf\ntn/QGPNa4L8S9OcQEZFlUizG6p0zYdWqVgvFunUV3vWuSseIj8nJPB/+cJFisXenzFqtc1mjc2a1\nGny2ccsklfK55JI8yaTHf/kvFY4/vlqfC8Nn7dqyOmjuowadZKSAUteyxvtEvw8ZY1YT9M/Yaa39\n9oDrJCIifVSrEbLZONWqQ7nsUCxCLNaa5Oraa3PNForTTy9x2mkjc/pR3HZblnTa69kyEYm0+lU0\nOmcCXHBBir/5m3zPWx/j40F5tVbs+wadZMwyN5lovC/0+oAx5kDgVsAHNix2h5FIhFgsttiP7Vei\n0WjH75VKcWhRLAKKQ6Bx/NVqlOnpKIVC0PdhYsKjUnHJZiEeh89+tnP2zHIZarXWKA/P6/3wsELB\noVKBLVvynHdeq2XiwgsLRKM+L3uZx+23T5NKwdCQR7ns8KlPFVi1qkY83t1CEe7fc10TgUgksvdC\nAzDoKD8JrDbGuNZar77sIKBord3TXdgYcwhwO1ADTmq/nbJQmUzmxdR3vzLeSP9XOMWhRbEIrNQ4\n/PrXOXbvruF58Nhj0+TzwTDSPXvgscdcksnIvLNnXn31DNDqO+G6vR8elkr5PPmky/i4z003ZXEc\nGBmBaNTHccDzYPVqhyOOGCKd7tUVb+mt1GtiqQ06yfgxUAHeAny3vmwdcF93wfpIlO/Uy7/dWrvr\nhewwm81SKnXfoVlZotEo4+PjTE1NUa2u3PuWikOLYhFYSXHI5Ryy2SiuG9yeKJfd+m0Ihz174I/+\nKNORTLzpTVXe8Y75Z8/0PIdrrok3R3lcdVVizoiPSy7JUyrBUUfVKBYhHncYH6+QTs+drnt2tsTs\n7JKGZY6VdE3MJ5FILMl/0geaZFhri8aYrwCXGWNOBw4F/gr4EDRvjUxba2eB/wkcSTCfhltfB0Gr\nR3ah+6zValQqGr4EUK1WFQsUh3aKRWB/jEOhEGd2NtLsS1EoBK0H8bjPAw/MneTq3HOLXHRRqplM\nfPvbub3Onum6PnffHeOMM0rceGMW33dYvdpr9qNIp4PbH5nM3AeIvdTDvT9eE4uxVLeLwtjLhwlG\niNwOTBPM4vmt+rqngVOBrxDMCJoEftD1+S8Dp4dQLxGRfVI+H2d6OkYuF3SQrFZ9olGHUglqNdi8\nudWX4s47sz0nubrttiwXXURzWSrV+9ZHY/bMSy/Nc8ghHnfdNU006jM15ZJKBbc/RkcrrF2rZ37I\n3g08ybDWFoHT6j/d69y218cMet8iIvu6UinKzEyMUsnFcTwiEYeHHopy9tmdfSduuSXG+vWV5u9G\nX4rp6f6dMxuSSZ9cDi67LN/cbiOxOOKIGnfdNY3rguvC8HCVVKqsJ5LKC7Kyu9eKiCyzXC5OsRht\n3vIYH/dAvZzcAAAgAElEQVQoFl3yeXjyyRhDQ34zEYDOvhOnnTbS8XvHjnjfFopUqjUV94UXFqhU\nHI47rtIxhDSR6H3rQ+SFUpIhIrJESqUo2WyMSiVopYjFoFBwmZ52yGYd7rsvwuGH+80k4uyzh/nS\nl/J9+050/wa4+ebYnEmuJifzjIx43HHHNMPDwUPKXNdvJhSaj0LCoiRDRCQEpVKUQiFGsehSqfjE\nYg4zM0FnyUrFJxJxefJJh/e9L928DfKd72T5/d/PdCQP/YaNNpa3/06lfA4/3OPoo6vcdVe22Ycj\nHvcYH4+ydu3siu7sKEtPSYaIyADkcsFoD98Pho9GIh7/8R8xrI2zfn3nVNyNPhUnn1zueHjYU0+1\npuZuJA+9ho1eeGGB7duD5du3J7j88jwve1mNO+/MEot5DA3VSKdbHTNjsRhr1oyza9cyjx+VFUdJ\nhojIIgUJRRTPC249zM4Gc1KMjkIs5vGtbwWdMc86a7jZZ2K+PhWNh4c5Tmviq/bkAuDLX55hbMxn\nYiJ47sdb3lKlUvE5/vgqo6MVUimN9pCXHiUZIiLzaNz2qFahVHLx/WD4aC4HExMe9903d06Kk08u\n88wzkY7bHu169aUA2LYtwdateTZuHGbHjjiJBNx6a5ZKJZgDY2jIo1aDiYmKHhgm+wQlGSIibXK5\nODMzUXI5h/Hx4OkIpVIw2gMcpqYcPvCBoB/FPfdM95yT4s47sxxwgNfRZ6Jfn4rGA8RSKZ8NG8q8\n4Q0V7rory8wMZDI+6XSV4WG1Usi+SUmGiKxYhUKcSiXSfGDY2JjPww+3Hmt+xhklnn3W7ehPsWVL\nvtmPIp/v3UqRyzmUy0Hfi23b+vepuPzyGY46qsYdd0yTyfgMD1c7+lKI7OuUZIjIihG0UsSa80LE\n4x7ZrMsTT7i4LpRKXsdjzYFmcgBBAnHeecPNfhTDw71bKdJpn9lZuOWWGB/4QInVq71m68TICNRq\nPscfXyGdrjIyUubAA3tWV2SfpyRDRPZLjdseP//5HqLROPl8nFgMPvOZYAruk08u8573lNm4sdWf\nYuvWVitFo6/EfM/3uOGGuXNSXHJJnmo1GE76t39bJJcLhq2OjFQ4+GC1UsjKoiRDRPZ5xWKMcjlK\nuQzVanC7IpWCctnn3/89ynnnzX2c+Qc+UJoz6mPjxmGuuSZopXBdv2O0R0N7P4rJySTf+la2OSdF\nOg3JpIfrQixWI5UqaqIrWdGUZIjIPieXi1MuRyiXXXI5GB4ORl489FC0ebujMblVI8GAzuGj/UZ9\njI625qc444zSnP4Ul102w6tfHfSjSKWCqbiHhmpqpRDpQUmGiLyk5XJx8vlgtMfISDBbZiIBjzwS\n6Ugotm7Nc9118Y6Eon1yq4bG7Y5+oz5GR32+8Y0csRisWVPj1a92+Ld/y1Io0NE5Uw8ME9k7d+9F\nRESWTi4X56mnhvk//2eYPXuSPPdcjEcfjfDMMy5/+7dJ7r8/xtNPu80EA1q3Oj7wgVLHthq3O9o1\nho9u355gcjLfXB+0UuRJJj0OPNDjoINqJBKQSlU59NA8r3pVnoMOKmj0h8giqCVDRJZNLhenVGrd\n9hgd9XFdyGYdJiY8Hnig8/ZHYzruv/iLWs8WCr8zn+iY3Kr9ceaZjM8HP1hi9epax1NIR0YqSiJE\nBkhJhogsie5Hmo+MBENIH3xwbiJx440xzjijNKe1otGfot/jzA891GsuT6V81q+v8LKXBYlE8HCy\nIInZs8fhwAM9RkcrJJMVdc4UCYmSDBEJRWNOinI5eAJpuezz6KPRjiGjl16a5xvfiPdMJGq13h0z\nfR+yWdiyJd/s1NmY4Cqfhx07slSrkEpBPB6MBIlGYWSk9dCwAw5Y8nCIrEhKMkTkRWvMSVGpQDTq\nkEgEk1zt2uWyapXHBRck+cAHSs0EA4KE4Zxzgomtbrop3tzW3jpmHnaYx4UXBttrdMgcHg4SimIR\nYjGnedsjeProGnbt2qVHnIssAyUZIrIouVwcz4uQz7v1WxAQiXj4fnAbZGzM58c/nnsLJJHoPbFV\ndz+KRsfMXo84v/TSPCMjHh/7WJFEIniuyPAwRKM19aUQeQlSkiEi88rl4uRyMSqV4LZHrebz059G\nOfvsziePXn99nJtuinPttbmefSluuy3bs2XikEM6+1FceGGBq65KcPfdMTZunOXuu6eZnnZIpyGV\n8ohEaqxZU1yucIjIIijJEJGmXC5OtRrBcaBQcMlmYXQUYjGPX/wiyqmnjnD11TPNBANaTx5t3Pbo\n15dietqZ0zLxhS/kKRTg9tuzlEqtjpmvfW2VTKbYvO1x0EHLEQ0RebGUZIisYLlc8BTS2VmXctkn\nHneaD/H65jdjXHBBqtlS8apXVVm3rtJ3pszG8zz69aXIZh127Ihx661ZKpVWQuG6EIn4jI6C6wa3\nPdQxU2T/oMm4RFaIXC7O1FSS3buTTE0leeqpYWZmItx3X4y/+7skP/xhjBNOyPD2t49ywgkZXvlK\nj7/+60KzpSIeD55M2kgi2jX6UQDNvhTtk1xdfnmeI46o8YlPFBke9lm1ymNkpMqBBxZYs6bAxESR\n0dGi+lWI7GeUZIjsh55/3uEnP5niP/8zzk9/OsxvfpNidjbKs8+6+D7ce2+QUJRKLps2BTNldj/S\nfNOmYd797krzfS4XtFb0SiImJ/Ns25YA4O67Yxx+eI27757m9tunueuuLG96U4WxsSoHH5zngAMK\nrFqlhEJkJdDtEpH9QGOiK9+HSiUY5TE0BJ/+dPBY8/ZJrj71qWLz0eT5vNO81dHrFkihECxLJn3S\naZ/nnvPZsSNOIgG33hrMRzE8HPTZeN3ranz4w8WOmTPVl0JkZVOSIbKPaQwhrdVo9qV4/nmXQsHh\n2WfdZotEMumzZUuechl27Ig3J7nK5VoJxfCw37zV0asfRSoV/FxySZ5q1eNVr/K5445pRkbAcTzA\n1VTcItKXkgyRl7BSKcrsbIxCIXi2x9iYT63mkM0GnTNvuCHG619fw6nnBt23PM47Lxj1sWNHvNli\nkU63hozecEOseauje+THJZfkicV87rory9CQR7Ua7GPtWiUVIrIwSjJEXkIac1LkcsEDu1Ipj/vv\nj3HWWcOsW1fhXe+qdLRUTE7mWbvW48knI0Dvya4aoz4aLRb33ecyOZln06ZhLrooxUc/WuATnyhS\nrfrs3JkllwsSmETCIx7XJFci8sIpyRBZJu0zZzbmo8hm4Z3vzDSTiMsuy/NP/xS0Qpx+eonTThuZ\n0znzzjuzRCJBJ8xetzxc158zydVtt003nz6aTgcJhetCKlVm7drqssRDRPY/SjJElkijcyZAuewQ\niXg8/HCs44Fhk5N5zj23yEUXBa0VZ5/dmuSqX+fMbLa1rPuWx2WXzXDYYR533TVNNNqa5CqV8nHd\nKmvXqpVCRMKjJEMkBI0HhuVyDiMjEI36TE87JBLw+OMup546wm23Zec8MGzTpmFuuy3LRRfRXNZ4\ntke/zpnJpM+2bUN87GMFXvGKWvOhYel08PRR1/Wbtz3WrFnqSIjISqZ5MkRepFwuzvR0kt/8JsXj\nj6d46qlhfv3rOL/4RYTPfCbJCSdkuPvuGBdckOQd78jw7LMu69ZVmsNH27UPG4XOZ3v0mp9i69Y8\niYTHJz9ZJJHwmZlxiESCzplvfOMYBx9c0ZwUIrJs1JIhski5XJzZ2QilkkuhAJmMz1NPOVx+eZL1\n6zs7Zm7eXABoDh9tH0raGD7aa9go0Bzh8Z3vxLj66hl8H17xilrzgWGNjqHBVNzBA8MaLRWxWGxp\ngyIi0sPAkwxjTALYCpwCFIDPW2u/0KfsG4BLgdcBjwDnWGt/OOg6ibxQuVycUilCpRIMIV292qNa\ndXjooc6nkG7eXODss2fZsCE95+mjjeSiMcqjMeKjMXy0MTFWI6lIpTxuvTXL6KjPyIjH617nNkeb\njIxUNcmViOwzwrhd8jngOOAkYCPwSWPMKd2FjDEp4Gbgznr57wE3G2OSIdRJZK+KxVjztsejjw6z\na1eSmZkou3e71GqQyXjcd1+MRx+NzHkK6fnnp0gk+g8hbX+2RzLpE4n4XHRRiscec7nzzmzH9NtT\nUy7j436zleLgg/O8+tV51q7N67aHiOxTBtqSUU8czgDWW2sfBB40xmwGzgWu7yr+PqBgrf1I/f1f\nGmP+ENgAfGWQ9RLpJbjtEcXzgveN6biTyeCpoN//fozzzmu1Vlx+eZ7rr4/zp39a7plMpFK9b39E\no0FLx1VXJZojPo46qtacOTMW8znwQJ9IJOicuWrVUkZBRCQ8g75dcmx9m99rW3Y38NEeZd9cX9fu\nHuB4lGQsWDyXI5bLMf3ww8RHR4k6Dq7n4SUSOOUyTi6Hn05DJIIzNQWZDF40ijs1BSMj+NEozvQ0\n/tgYVKs4uRyk0/iui+95uL4PuRz++DjUajgzM8F6xwk+l8lApYI/NIRbrQYTPWQy+JUKjuviJZO4\npRKe4+BAsP1UCj+RwI/HoVzG8TycSgUKBRgZCT5TLNK4R+BXKjiRCN7QEPg+brkcrEung+OcmcFP\npXCA6V/+knihQCyTAdftPOZKBfJ5vLEx3GqV4XpdvUQCp1LBoQIUIDKCn47yW2+N8N6d5Vad43FO\nfkMUd3aWqe9WcGIxyOfx02n8aLD8qTt8nEgEGnGqVnEiEfyjonzwt/bgZzL4sVhwfBTwEqtwSyXY\nHUyU4VWHOo7dSyaD81guQ6GANz7eEWcvFsN97jm8VatwANpiuSeTIea6xKem8EdHg2tg924YG8Mb\nGsItFCCXw1u9GrdUwi+XceLxZt29WAx39+5gP0NDMDsbNH1ms3gTE0E9GuehEd9GvePx1nnqus6c\nchny+WB5JAKuG1xPhQJ+Oh0cf33iEC+VataTVCo4V8Vi89pqXOMMD+PH40G8u66zPT//OXHXJVa/\n5tx8vnc9G9dltRoc58xMcL4ikeAc1evsuW7ze0EqhTc83DpnjWvS84Lt1Ms1Ytx+TROPN68bCoXm\nteFUq81z6NevY2ZncaLRzusqGg3OWSLR/D4yMoIXiwUx2L07iGE8jrt7N3tGR4l5HvH2vwnPP4+/\nalXw3Z+ZwRsbozoyQnRmJqhvo17xePAdqVTwPa957Xujo5THx6lFO/8piVSrxKemcLJZ/EymZ5nF\nlm+UwfNwa7Xg71J9/9VEYmB/U2WwBp1krAWes9a2z+bzDDBkjFllrd3dVfaRrs8/A7x2wHXab8Vz\nOYa++12GN23CKRbxk0nyk5O4jz2G98pXEr/+euI33YSfTFLYvJnYjTcS27lzzmvn8cfxXvEKhs87\nr7md7De/SfSppxjetInKunVU3vUuUuef31zfvo385CT+8DAjp57auf6WWyifcgp+pUIkkWD4nHM6\n1ldf+1qc6Wkiv/51x7bzk5Nz637LLcyeeSbu1FTHdvKTk9QOOwwnmyX6s5/NW8f49ddDuTznWHJf\n+xrub37Tcfy5bdtws1mGN25s7evii/FWr2boi1+ksn79nDq7jz2Gv3bt3DrccguV9evn1KV6zDF4\nxxzT8/ylLrggeH/ppfjJJCOnntrzPOQnJ/GLRdzVqwFwn322c/2WLcSvv77jvJfe8x4isRjDmzZR\nPPdcvGOOIX799b2P6Sc/IXnJJeQnJ6kefTTJCy7oGcP2c1Y++WTKp5zScVyN68w//PA59fPHx/FW\nr8YfGiJ2773Nz/XbTu3gg4k+8ADeUUd1np8tW/AOPpj0e9/bUd474AASX/0q5ZNPxjvoINLvf3/f\n7ee3bNl7mbZjLXz0o3ivfOWc9bXDD8edmSH9/vc3Y9x9HLFbbqH8nvcQv+665rWe+/rXcZ9+uuNa\nnLnmGpypqY5lHddV9/VVj2niS19qfT+LRVzPm3Nt9jwnbddc8/tw7bW4zz5L/IYb5lwnM1deSWHd\numZSEKlWSe3cyciZZ/Yt024h5RtlIv/xH3PjvXUrhRNPVKLxUuX7/sB+NmzY8IENGzb8smvZkRs2\nbKht2LDh4K7lt23YsOGTXcv+bsOGDTsWuL/jfN/3p6en/WeffXZF/uy57z7fSyZ9H5o/XjLp77nn\nHt9LJv3s17/esbzxvvt1o3z7dtqXZb/+9Z776djetdf2XO8lk/6ee+/tW8/stdfOu+329/3K7rnn\nnp7H0OuYex1Lr+32rde11/aNx3x16FWXfuX33HPPnH3Odx723HtvUK+9xLK537bz0X6tzFeX5n76\nxLB9P4uOz7XXBuew6zrpu596+X7r5jtn7evn2/5ey9SPdb5z2NjOQq+LRV+LbZ/v9X3s+I7P8x1c\nSBwbdegXj6kHH2z+XZp68MG9lmn/WUj5Rpm+8b7//gX/3Xz++ed93/f9559/ftn/hi/nz/T0tF93\n3CDzgO6fQbdkzALd6WTjfWGBZbvLzSuTySym+H4l+/DDOMVixzKnWMQpFILfjc4GjeX193Ne5/Nz\nt9O2zPG83vtp30at1nO9Uyzi5HL961mrzbvtXvvqtR18f+917LeNXnXoV6/6cfZc1yuO7XHoqkvf\n8oVC5/vGPvudh1xu/np177ftfDTq0Hfb9bo09zPfeWis67etfsdbq+Hk80Hzfdv6vtupl5/v/PSM\nX9f6+ba/1zKNY53nHDb3u8DrAhZ5LbZ9fr7v416/gwuJY70O/eIRzecZq4+fnvnZz/Zapt1CyjfK\n9I1lNsuaRc40Nz4+vqjy8sIMOsl4ElhtjHGttY1vzkFA0Vq7p0fZ7oF4BwFPL2aH2WyWUqn0giq7\nr4tnMvjJZMeXzk8m8VOp4Lfrdi6vv5/zenh47nbalvmu23s/7duIRDrq1ljvJ5NBn4V+9YxE5t12\nx3vH6budxut569j2uqNcrzr0q1ckAr7fe12vOLbHoasufcvXj6c7tn3PQzqN/9xzC45B+/lo1KHv\nttti66fT+Lt27X0//bbV73gjEfzhYYjFOtb33U69fN/z06b7nLWvn2/7ey3TONZ5zmHzvC3wuoBF\nXottn+/5ffT91vv5voMLiWO9Dv3iUR0eZlf92oiNjOy1TLuFlG+U6RvLTKbntnuJRqOMj48zNTVF\ntbpyn9OTSCSW5D/pgx7C+mOgArylbdk64L4eZb8PvLVr2dvqyxesVqtRqVRW5k86HdxvTQajfv1U\nivzkJLGbbyY/OUli27bm8sLmzSSuuqrn69gNNwT3cdu2Qy7X3HbiqqsobN7csb59G/nJyWB59/rt\n24P7+j/6UfM+b/t6SiX8eHzOtnvWfft2/KGhOdvJT04GHUZzub3WMbFtW89j8ROJOcfvR6Pkt27t\n3NfFF+MnEiS2betZ59jNN/euw/btPesSu+GGvuev+f7SS5ux7VX3/OQk7n2tr9ec9Vu2zDnv7o9+\n1Nxvow59j+mGG5qv/Wq1bwzbz1njvHfHIXbDDT3rB8DsLH6l0vG5ftvxo9HgGu8+P/VzOOc6a2xr\ny5agY+c8219QmbZjbXzX5lyTxWJzO73Oc/P7sXVrx7XuDw3N/S7CnGUd11X39VWPafv15t53X89r\ns+c5abvmmvVKBn2Sel0nM1deSWlsrPl3qTQ2xsyVV85bpv1nIeUbZXrGe+tWShMTC/672UgsqtXq\n8v8NX8afWldrVVgcv57tDoox5lKCZOF04FDgGuBD1tpvGWMOBKattbPGmDTwM+BrwBXA2cCfAK+0\n1hZ7brzTccADU1NTFIsLKb5/iudyxGZmaDxO03Pd3qNLolGc55/f++iSmZlgeWN0CUA2G4wu8bxg\n/fAwvuv2Hl3SGJ1SqY8uGRrCLZf3PrqkWm313k8mgx737SNVIhG8eseu+UaXOI0e8Y3e83v2NHvc\nu9Uq1HvQd4zQaIwuaauDH43iRyLB8my2ObrEj0ZbIzEao0tGRoIRI6VS0PO+1+iSRpzT6aDs7GzQ\nO3/VquB4GnVJJlujKRY6umT3bryJiTmjS9rPu5/JdF4DyWRzFIe3ejVuudwaXVIfEeIlErjPPRfE\nOZlsjS7J5Vr16DW6pH5eOkaXxGI4e/bgj44GcW5cZ/1GlzS2Mzy8+NEljtM6Z4lEMDLDcZrXnFso\ntL4v7fXsNbqk/XwVCjA83Ht0SeN67R5dUv/+eKtWteIzMoJfqwUtN+2jS9LpYBRH++iS+jmkWJw7\nuiQSCX7HYsG12natO9A61/XRJf7oaHB9dI048ycmWqNLRkepptOdo0vSafxEIqhXufzSGF3iecHf\npUyG8sTEojp9xmIx1qxZw65du6hUKgv+3P4mmUw2bhm9EQhtEswwkowkwYyf7wGmgc3W2ovr6zzg\nVGvtV+rv3wRcDhwNPAScZa19aIG7UpJRty98aXK5OPl8lGzWIZWCRMKnUPB54okozz7rzpmK+8Yb\nY+zYEQeCuSYa02q///3pOdu+9dYsmYzHvffGOp5AeumleV7+8hrJJESjHtWqW/+3zW/OnLm/2heu\niaWgOAQUhxbFIrBUScbApxWvt0KcVv/pXud2vb+f4ABlP9JIKHI5h9HRIIl9+OEIZ5010pFIvPnN\nwRe8kRjA3Km4G8s8z+n7FNLRUZ8bbojz7neXO55A2rit7DhBUpFMrtw/KCIiy0EPSJMXLZeLU61G\nKBaDloLhYdi9GzzP4ZlnXEZG/GaCAa1E4rbbstRqvZ9E2njOB9CcknvbtgSXXZZvTumdSvlMTuaJ\nxz3++I8rDA0FQ6ZGR2v7dSuFiMi+QkmGLEr3E0jTaXAcj0ceic15YNgtt8RYv77CqlW1vo80j0R6\nt05EIkELSCrlc+GFBbZvT3DyyWV++7cr3HVXtu2BYZVmQtHZDLp0MRERkd6UZEhf1WqEfD5OPu9S\nLvvE4w4zMxCLwWc/m+Smm+Ikk0Hfh298I97zlsdpp41wxx3ZnolEuRwkEZs3Fzr6UlxySZ5XvSp4\ntkc6DZWKz+/8TpVEwiORqLF69crugyMisq9QkiFNuVwcz4tQLkOp5JJIeJTLLuUy/OIXUc46q7Ol\nolyGHTvinHPOMFdfPcNNN8Wb22rc8igWg9aKLVvyzYeNNVonPA+OPLLGIYd43HlntjGwg2g0aMlY\nu3b/7pwpIrK/U5KxQjWeQFoqORSLMDbmU63Cnj0O8Tj85CcusViETZuCBKKRYMDczpnFokP3IKVG\nP4pk0mf3bofxcZ9vfCNHPB60XsRiPsPDPsHAIIeREY8DDywTjS7N2G0REQmfkowVIpeLMzMTo1Lx\nicUglwuSic98Jkm5DKecUu54rPmdd2Y58cRMR4tEu/bOmcmkzyGHeM1bIu39KC6/fIYDDww6Y8Zi\nwe2WRILmENKxseWIhoiILAUlGfuhxmiP2Vm3PqdRMJxzehoSCYdPf7rVn2Lz5gJHHlljw4Z0R0vF\n9HQrseg3dNR1fVIpn61b83znOzFuvTVLpUJXPwqfoaEqBxyg2x4iIiuNkox9XLEYY3o6ylNP7aFU\nilMoxEmnfZ5+2sWY9JwJrnbujHX0pzj//BTf/nZuTktFKtVKLK66KjGnc+bkZJ7RUY8dO7Ikkx6v\neY1LPO4Tj/sMDVVIJFbuMwFERCQw6GeXyBIqFmOUy1HyeZfdu11qNfjnf46xbt0ov/pVhHXrKvVy\nQR+K008vdbxurGskFO1uvjnG5GSeZNJnx444O3YELRV33jnNnXdmOfroKmvW+KxeXeGgg4occkie\nNWsKjI4WlWCIiAiglox9Wrkc5fvfj7FpU6svxeRknnPPLfadNbP7dTLpk80yZ/TH0Ud7vP71FXbu\nzDYek9ExJ4WIiMjeKMnYh+XzbjPBgCB52LRpmNtuy3LRRames2a2v27c9kin4c1vrrJz5zS5XOvZ\nIkNDNdLpImvXLsvhiYjIPk5Jxj4sm6XvTJq9Zs286qpE88FhRxxR4447ssRiQcIRJBRlJRQiIjIw\nSjL2YZkMPUd9DA/7XHxxniOPbMya6RONwmtfWyWTKeq2h4iILAl1/NyHpdOVZudMoHn7Y2TE441v\nrBKLwfi4x8hIlTVrCrz61XnWrs0rwRARkSWhlox9WDpd5q1vhZ07a2SzDpmMr1YKERF5yVCSsY9L\np8tMTPhtTx/V40dFROSlQbdLREREJBRKMkRERCQUSjJEREQkFEoyREREJBRKMkRERCQUSjJEREQk\nFEoyREREJBRKMkRERCQUSjJEREQkFEoyREREJBRKMkRERCQUSjJEREQkFEoyREREJBRKMkRERCQU\nSjJEREQkFEoyREREJBTRQW/QGPNZ4HSCBOZL1tqPzFP2LcDngdcDvwY+Z6390qDrJCIiIktvoC0Z\nxpi/At4H/N/Ae4A/M8Z8uE/ZA4F/Bm4Hfhv4W+BiY8wfDLJOIiIisjwG3ZLx58DHrLXfAzDGfAT4\n38AXepR9N/C0tfbj9fc/N8a8HfhT4F8GXC8RERFZYgNryTDGrAUOA3a2Lb4beFm91aLbvwCn9Vg+\nOqg6iYiIyPIZZEvGWsAHnmpb9gzgAIfWXzdZax8HHm+8N8YcQHCr5RMDrJOIiIgsk0UlGcaYIeCQ\nPqtHAKy15bZlpfrvxAK2ex1BgnLFAqszBBCLxRZYfP8ViUQASCQSRKMD78u7z1AcWhSLgOIQUBxa\nFItA27+dQ2HuZ7ERfjNwB0GLRbePABhj4m2JRiO5KPTboDFmGPg28Ergbdba2QXW5QiAkZGRBRbf\n/2UymeWuwkuC4tCiWAQUh4Di0KJYNB0BfDesjS8qybDW3kmffhz1PhkXAgfRug1yEEFC8nSfz6SB\n7wAvB95urf3FIqpzC/BnwK+AhSYmIiIiErRgHEHwb2loBtZWZK192hjzBPB/Af9YX7wOeNxa+0x3\neWOMA3yT4CBPsNb+bJG73N22HxEREVmc0FowGgZ9Q+pS4EJjzJMEHT4/A1zUWGmMWQ0UrbV54P8B\nTgLeBWTbRqCUrbVTA66XiIiILLFBJxkXAWuA64Eq8EVr7d+3rb8PuBr4X8ApBInITV3buBN4x4Dr\nJTcUViYAAAh6SURBVCIiIkvM8f1efThFREREXhw9IE1ERERCoSRDREREQqEkQ0REREKhJENERERC\noSRDREREQvGSn7jdGPPbwA8JZg516ovvt9b+Tn39BHAl8HvALuAT1trtbZ9/A8H8Ha8DHgHOsdb+\ncOmOIDzGmASwlWA4cAH4vLX2C8tbq3AYY95NMDS6cR34wHXWWmOMOYLgGjieYAbY86y1t7Z99neB\nLQQzy34PONNa+8slPYABqJ/v+4FN1tq76suO4EUcuzHmL4H/AaSBfwLOXcTU/suiTxz+HvjvdF4f\n/91au7W+fr+JgzHmYOAfgLcTfO8t8DfW2vJKux72EouVdE28ApgE3kYwUeUl1trP1dcdwTJeE/tC\nS8ZrgB8RTFHe+Fnftv7LBAf/ZuDTwBeNMW8CMMakgJsJ5t44jiCANxtjkktW+3B9juC4TgI2Ap80\nxpyyrDUKz2sInnHTuAbWEkzoBvAtgofrvRHYBnzTGHMogDHmMIKZZb8EvAl4DrhhSWs+APV/WL9G\nEId2N/ACj90Y8x6Cpx6fSTA3zVuAzaEeyIs0TxyOIXh+0lpa18dV9c/sb3G4jmBK6LcRPLn6XcD/\nrq97wd+FfTAOMH8sVsQ1UZ89+2aCJ53/NnA28DFjzPvqRZb1mnjJt2QQXCg/sdbu6l5hjHk58E7g\nZdbaJ4CfGGOOJ/gH93SCi65grf1I/SN/aYz5Q2AD8JUlqX1I6gnUGcB6a+2DwIPGmM3AuQT/49/f\nHAM80n0dGGPeAf9/e+caY9cUxfHfVKI6X4qi09QjJUHjgxTVaquIhEqkWpG/FEFFCB+IahqiKh7x\natCkUlWCeHywiOcHz6JRVVqvYtqggupTm6hH2nrVh7Xv5OSaOzO9vde995z1+zLn7n335Kw1/7Nn\nnbXXPodhwKgUXd8p6VT8738LfnEsM7M56ftTgQ2SxpfugpsdScPp5hH6yfZDgdFV2n4VcJ+ZvZL6\nLwdelzSjGe/YKvkhMRy428w2ddN3KTnxg6QjgOOBwWa2ObXNAmZLepXduxZaxg/Qsy/w4KIQmgAG\n4zfiV6anaa+WtBAYJ2kjDdZEq2QyvqrQNwp/N8qaTNtiPC1U6l9cNua9TH8rczQeJL6faVuM25xH\nKulgFPBxmeDLNdAVTJjZNnz5rZU0cBKwED/ntkx71bZL6geMBN7NjF0K7Ilrqxnp1g/pRYtDqTxP\njCY/ftgATCj9U80wELezSHrozhdtwMAiacLMNpjZlBRgIGks/t6wd2gCTbRKJqOfpBX4hfQKMN3M\nfsPTX+vKvr8RODAdD8HrMMr7j6rf6f5vDAE2m9lfmbaNwF6SBpnZlgadV704Apgg6QZgD3xtcBZ9\n00BP/U2Pmc0vHUvKdu2O7XvjaeaufjP7W9KW1P9BLc69lvTgh+H4evtMSWfga9L3mlkpW5kbP5jZ\nViC7nt6GZy8XUjw9VPLFmxRIE1kkfQcchL+u4zlgDg3WRMODDEl74RFnd/wEHAasBi4G9sGd9gQw\nGWgHdpSN2QH0T8e99bcylWyDfNjXhaSDgQHANnypaxhe7DWA0EC1trdnPlca3yocCfwDdOK6OBlY\nIGmrmb1Ivv0wGxiB33FOo9h6mI3XJIzE6wuKqImz8fqTB/BizobPEQ0PMvB0zdt41FnOZGAQ/ubW\nvwEkXQQsk9QBbOe/xvbHq4zpQ38rU8k2yId9XZjZDyk783NqWiFpD7yI6VE8+MzSFw3k4U2/24F9\ny9r6avv2zOdK41sCM3tc0ksZfXwh6XDgCrzoLZd+kHQXvmYuM+uUVFg9lPsC6CyiJko7JyVNA57C\nCzqrnR9r4oeGBxlmtohdqw1Zia+7DQXW4lFblg5gfTrurb+VWQvsJ6mfmf2T2jrwgOznHsa1JN3Y\ntBJP5W3AU6NZ+qKBT2p9jg1gLf/dZdFX27fgk0gHad06BW6DaMHro4I+TknHufODpLnA5cD5Zlba\nDVBIPVTwRWE0IekA4ISUoSnRiddOrKf6+bEmfmjqwk9JwyX9IumQTPMI4E/gG7wI5ZC0V7rEuNRO\n+jmm7NeOzfS3Mp/ifhidaTsRWNaY06kfkk6TtDktrZUYgW+3ehc4Nm1tLFGugXGZ39WexuZBA0uB\nY6qw/X0z24lrZVxm7BjgD+Czep50rZF0s6Q3yppHAKvSca78IOkm4DLgXDN7JtNVOD1U8kXBNDEM\neE7SkEzbccAmvMizmvmxZn5oeCajF1YBXwMPSboGT/vMBxakop+tkl4DnpR0Nb6daQowPo1/FrhD\n0n3AAnz/cDv+wJaWxsy2SXocmC/pErwQ51rgosaeWV1YgqfnHpZ0C16nczdwF14ZvQZ4TNKtwER8\nTfbiNPYRYLqkGXgx1E3A6pRBa3UWseu2f5vZujsP18+XeHHXPPzaarYter3xMnBdShG/gD9H5wJ8\nHR5y5Ie0jXcmcDuwRNLgTHeh9NCLLwqjCTwQWA48kuwdhs+Pt1Hd/FhTPzR1JiNFUhOBX3BnPY9X\nE0/LfO3C1L8UuB6YamYfpfG/AmfiQcdyPAg5I23TyQPTgI+At4C5wI1lKbNckHYSnQ7sj19QDwHz\nzeyetFQ0EU/pLQfOAyaZ2Y9p7Pd4MdQlwId4xfTk/92I2tFVu5RsP4tds31SZvzTwB3Ag8Br+Hbo\n0jNlmp2sH5YD5+Bzwef4DoMpZvZh6s+THybi8/ZMfNJfh6eu1yU9TKI4eujJF4XRRGYe+B2/IVsA\nzDGz+6ucH2vqh7adO7urtwyCIAiCINg9mjqTEQRBEARB6xJBRhAEQRAEdSGCjCAIgiAI6kIEGUEQ\nBEEQ1IUIMoIgCIIgqAsRZARBEARBUBciyAiCIAiCoC5EkBEEQRAEQV2IICMIgiAIgroQQUYQBEEQ\nBHUhgowgCIIgCOrCv13Y4RN/FDbJAAAAAElFTkSuQmCC\n",
      "text/plain": [
       "<matplotlib.figure.Figure at 0x2524d4d94a8>"
      ]
     },
     "metadata": {},
     "output_type": "display_data"
    }
   ],
   "source": [
    "# Visualize the results: scatterplot of balance v.s. predcited default rate. Bonus: add actual default rate.\n",
    "\n",
    "#scatter balance vs. predicted\n",
    "plt.scatter(df.balance,df.prediction)\n",
    "plt.scatter(df.balance,df.default, c='red')\n",
    "plt.show()\n",
    "\n"
   ]
  },
  {
   "cell_type": "code",
   "execution_count": 71,
   "metadata": {
    "collapsed": false
   },
   "outputs": [],
   "source": [
    "# Interpret the **coefficients** and assess the **model fit**\n",
    "\n"
   ]
  },
  {
   "cell_type": "markdown",
   "metadata": {},
   "source": [
    "What is your interpretation of the coefficients and your assessment of the model fit?\n",
    "\n",
    "> Your insights here"
   ]
  },
  {
   "cell_type": "markdown",
   "metadata": {},
   "source": [
    "# The Logistic Function (10 minutes)"
   ]
  },
  {
   "cell_type": "markdown",
   "metadata": {},
   "source": [
    "For this section, you'll simply familiarize yourself with the **Logistic Function**. In order to perform **classification**, we want to explicitly **model the probability** of falling into each category. Given the limitations of linear regression, we want to find a functional form with the following property:\n",
    "\n",
    "> _All values output by the function should fall **between 0 and 1**._\n",
    "\n",
    "Because we are modeling **conditional probability**, we will annotate our formula using the following shorthand:\n",
    "\n",
    "\\begin{equation*}\n",
    "p(X)= Pr\\left(Y=1|X\\right) \\\\\n",
    "\\end{equation*}\n",
    "\n",
    "\\begin{equation*}\n",
    "p(balance)=Pr(default=1|balance)\n",
    "\\end{equation*}\n",
    "\n",
    "While there are many functions that meet this requirement, a commonly used formula (and the one that we will use for logistic regression) is the **logistic function**:\n",
    "\n",
    "\n",
    "\\begin{equation*}\n",
    "p(X) = \\frac { { e }^{ { { B }_{ 0 } } + { B }_{ 1 }X } }{ 1+{ e }^{ { { B }_{ 0 } } + { B }_{ 1 }X}} \n",
    "\\end{equation*}\n",
    "\n",
    "Note, with some manipulaiton, we can rearrange the above equation into the following equality:\n",
    "\n",
    "\\begin{equation*}\n",
    "\\frac { p(X) }{ 1 - p(X) } = { e }^{ { { B }_{ 0 } }+{ B }_{ 1 }X } \n",
    "\\end{equation*}"
   ]
  },
  {
   "cell_type": "markdown",
   "metadata": {
    "collapsed": true
   },
   "source": [
    "As you may have noticed, the left hand side of the equation is the **odds** of observing our dependent variable given our independent variable(s). This is because the odds is the ratio of the probability of an event, $p(X)$, relative to the probability of not observing the event, $1 - p(X)$.\n",
    "\n",
    "By simply taking the log of both sides of the above equation, we arrive at the following formula:\n",
    "\n",
    "\\begin{equation*}\n",
    "\\log \\left( { \\frac { p(X) }{ 1-p(X) } }\\right) ={ { B }_{ 0 } }+{ B }_{ 1 }X\n",
    "\\end{equation*}\n",
    "\n",
    "On the left-hand side of the equation, we are left with the _log odds_, or _logit_, that has a **linear relationship** with the predictor variables. The betas are estimated using **maximum likelihood methods**, which are beyond the scope of this course. However, the intuition of this approach is that you are \"finding the set of parameters for which the probability of the observed data is greatest\" ([source](http://czep.net/stat/mlelr.pdf)). \n",
    "\n",
    "Logistic models will generate a set of probabilities of an observation being a 0 or a 1. Given the functional form, the default threshold for classification is .5 (i.e., if a probability is less than .5, the model predicts it is _not_ a positive case). "
   ]
  },
  {
   "cell_type": "markdown",
   "metadata": {},
   "source": [
    "# Running a Logistic Regression (15 minutes)"
   ]
  },
  {
   "cell_type": "markdown",
   "metadata": {},
   "source": [
    "We'll continue to use the `statsmodels.formula.api` to write R style formulas in our analytical approaches. Logistic Regression is considered a **Generalized Linear Model**, which is described well on [Wikipedia](https://en.wikipedia.org/wiki/Generalized_linear_model):\n",
    "\n",
    "> The generalized linear model (GLM) is a flexible generalization of ordinary linear regression that allows for response variables that have error distribution models **other than a normal distribution**.\n",
    "\n",
    "This class of models extends the linear model in a variety of ways, while providing an API that resembles the linear approach. "
   ]
  },
  {
   "cell_type": "markdown",
   "metadata": {},
   "source": [
    "In this section, you should: \n",
    "\n",
    "- Use the `smf.glm` function to fit `default` to `balance` (hint: see this [example](http://statsmodels.sourceforge.net/devel/examples/notebooks/generated/glm_formula.html))\n",
    "- Generate a set of predicted probabilities using your model\n",
    "- Visualize the predicted probabilities across balances\n"
   ]
  },
  {
   "cell_type": "code",
   "execution_count": 64,
   "metadata": {
    "collapsed": false
   },
   "outputs": [],
   "source": [
    "# Use the `smf.glm` function to fit `default` to `balance` (hint: use the `binomial` family)\n",
    "log_fit = smf.glm(formula='default ~ balance', data=df, family=sm.families.Binomial()).fit()\n",
    "log_fit.summary()\n",
    "df['glm_predict'] = log_fit.predict()\n"
   ]
  },
  {
   "cell_type": "code",
   "execution_count": 68,
   "metadata": {
    "collapsed": false
   },
   "outputs": [
    {
     "data": {
      "text/plain": [
       "<matplotlib.collections.PathCollection at 0x2524d6f3cc0>"
      ]
     },
     "execution_count": 68,
     "metadata": {},
     "output_type": "execute_result"
    },
    {
     "data": {
      "image/png": "iVBORw0KGgoAAAANSUhEUgAAAhkAAAFoCAYAAAD6jOlyAAAABHNCSVQICAgIfAhkiAAAAAlwSFlz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\n",
      "text/plain": [
       "<matplotlib.figure.Figure at 0x2524d698ac8>"
      ]
     },
     "metadata": {},
     "output_type": "display_data"
    }
   ],
   "source": [
    "# Generate a set of predicted probabilities using your model\n",
    "plt.scatter(df.balance,df.glm_predict)\n",
    "plt.scatter(df.balance, df.default, c='red')"
   ]
  },
  {
   "cell_type": "code",
   "execution_count": 79,
   "metadata": {
    "collapsed": false
   },
   "outputs": [],
   "source": [
    "# Visualize the predicted probabilities across balances (bonus: add the observed values as well)\n"
   ]
  },
  {
   "cell_type": "markdown",
   "metadata": {},
   "source": [
    "While the simplicity of the `predict()` method makes it easy to overlook the interworkings of the model. You should note that the estimates are generated by plugging values of $X$ into this equation (with your estimated Beta values):\n",
    "\n",
    "\\begin{equation*}\n",
    "p(X) = \\frac { { e }^{ { { B }_{ 0 } } + { B }_{ 1 }X } }{ 1+{ e }^{ { { B }_{ 0 } } + { B }_{ 1 }X}} \n",
    "\\end{equation*}"
   ]
  },
  {
   "cell_type": "markdown",
   "metadata": {},
   "source": [
    "# Interpreting Betas (15 minutes)\n",
    "\n",
    "As demonstrated above, the logistic formula is **linear in logit space**. This means that changes in your variables are associated with a **change in the log odds** of your dependent variable. There are a few implications of this:\n",
    "\n",
    "- **P-Values** retain their same interpretation (probability of observing the relationship _by chance_), and can be used to confirm/reject the null hypothesis\n",
    "- **Direction** of betas (+/-) is associated with a corresponding increase/decrease in the _log odds_ of the outcome. This can be interpreted as a positive / negative relationship. \n",
    "\n",
    "## Units\n",
    "**Units** of the betas are more difficult to interpret. Each unit increase in $X$ is _associated with_ an increase in the **log odds** of the dependent variable $Y$. As you can see in the curve above, increases in log odds are **multiplicative** in nature. This means that a unit increase in $X$ corresponds to a **different** change in $Y$ depending on your **current value of $X$** (see how the **slope** of the curve changes). However, if we **exponentiate the beta value**, we can also describe proportional increase in the **odds** (not just the increase in _log odds_). Consider the following formulas for calculating the log odds for ${X}_{i}$ and ${X}_{i - 1}$ (a unit increase in $X$):\n",
    "\n",
    "\\begin{equation*}\n",
    "LogOddsX_{i} = \\log \\left( { \\frac { p({X}_{i}) }{ 1-p({X}_{i}) } }\\right) ={ { B }_{ 0 } }+{ B }_{ 1 }{X}_{i}\n",
    "\\end{equation*}\n",
    "\n",
    "\\begin{equation*}\n",
    "LogOddsX_{i-1} = \\log \\left( { \\frac { p({X}_{i-1}) }{ 1-p({X}_{i-1}) } }\\right) ={ { B }_{ 0 } }+{ B }_{ 1 }{X}_{i-1}\n",
    "\\end{equation*}\n",
    "\n",
    "Because of the **linear relationship** in logit space, we can then easily calculate the **difference** in log odds between ${X}_{i}$ and ${X}_{i + 1}$ as $B_{1}$:\n",
    "\n",
    "\\begin{equation*}\n",
    "\\log \\left( { \\frac { p({X}_{i}) }{ 1-p({X}_{i}) } }\\right) - \\log \\left( { \\frac { p({X}_{i-1}) }{ 1-p({X}_{i-1}) } }\\right) = {B}_{1}\n",
    "\\end{equation*}\n",
    "\n",
    "If we exponentiate each side of the equation, we can see that the **proportional increase in odds** betweeen $P(X_{i-1})$ and $P(X_{i})$ is simply ${e}^{{B}_{1}}$:\n",
    "\n",
    "\\begin{equation*}\n",
    "\\frac { \\left( { \\frac { p({ X }_{ i }) }{ 1-p({ X }_{ i }) }  } \\right)  }{ \\left( { \\frac { p({ X }_{ i-1 }) }{ 1-p({ X }_{ i-1 }) }  } \\right)  } ={ e }^{ B_{ 1} }\n",
    "\\end{equation*}\n",
    "\n",
    "We can then interpret the **exponentiated beta value** as the observed **multiplicative unit increase in odds** in the dependent variable."
   ]
  },
  {
   "cell_type": "markdown",
   "metadata": {},
   "source": [
    "In the section below, you should:\n",
    "- Get the `summary` of your logistic model to retrieve betas values from your model."
   ]
  },
  {
   "cell_type": "code",
   "execution_count": 70,
   "metadata": {
    "collapsed": false
   },
   "outputs": [
    {
     "data": {
      "text/html": [
       "<table class=\"simpletable\">\n",
       "<caption>Generalized Linear Model Regression Results</caption>\n",
       "<tr>\n",
       "  <th>Dep. Variable:</th>       <td>default</td>     <th>  No. Observations:  </th>  <td> 10000</td> \n",
       "</tr>\n",
       "<tr>\n",
       "  <th>Model:</th>                 <td>GLM</td>       <th>  Df Residuals:      </th>  <td>  9998</td> \n",
       "</tr>\n",
       "<tr>\n",
       "  <th>Model Family:</th>       <td>Binomial</td>     <th>  Df Model:          </th>  <td>     1</td> \n",
       "</tr>\n",
       "<tr>\n",
       "  <th>Link Function:</th>        <td>logit</td>      <th>  Scale:             </th>    <td>1.0</td>  \n",
       "</tr>\n",
       "<tr>\n",
       "  <th>Method:</th>               <td>IRLS</td>       <th>  Log-Likelihood:    </th> <td> -798.23</td>\n",
       "</tr>\n",
       "<tr>\n",
       "  <th>Date:</th>           <td>Mon, 13 Feb 2017</td> <th>  Deviance:          </th> <td>  1596.5</td>\n",
       "</tr>\n",
       "<tr>\n",
       "  <th>Time:</th>               <td>14:56:07</td>     <th>  Pearson chi2:      </th> <td>7.15e+03</td>\n",
       "</tr>\n",
       "<tr>\n",
       "  <th>No. Iterations:</th>        <td>11</td>        <th>                     </th>     <td> </td>   \n",
       "</tr>\n",
       "</table>\n",
       "<table class=\"simpletable\">\n",
       "<tr>\n",
       "      <td></td>         <th>coef</th>     <th>std err</th>      <th>z</th>      <th>P>|z|</th> <th>[95.0% Conf. Int.]</th> \n",
       "</tr>\n",
       "<tr>\n",
       "  <th>Intercept</th> <td>  -10.6513</td> <td>    0.361</td> <td>  -29.491</td> <td> 0.000</td> <td>  -11.359    -9.943</td>\n",
       "</tr>\n",
       "<tr>\n",
       "  <th>balance</th>   <td>    0.0055</td> <td>    0.000</td> <td>   24.952</td> <td> 0.000</td> <td>    0.005     0.006</td>\n",
       "</tr>\n",
       "</table>"
      ],
      "text/plain": [
       "<class 'statsmodels.iolib.summary.Summary'>\n",
       "\"\"\"\n",
       "                 Generalized Linear Model Regression Results                  \n",
       "==============================================================================\n",
       "Dep. Variable:                default   No. Observations:                10000\n",
       "Model:                            GLM   Df Residuals:                     9998\n",
       "Model Family:                Binomial   Df Model:                            1\n",
       "Link Function:                  logit   Scale:                             1.0\n",
       "Method:                          IRLS   Log-Likelihood:                -798.23\n",
       "Date:                Mon, 13 Feb 2017   Deviance:                       1596.5\n",
       "Time:                        14:56:07   Pearson chi2:                 7.15e+03\n",
       "No. Iterations:                    11                                         \n",
       "==============================================================================\n",
       "                 coef    std err          z      P>|z|      [95.0% Conf. Int.]\n",
       "------------------------------------------------------------------------------\n",
       "Intercept    -10.6513      0.361    -29.491      0.000       -11.359    -9.943\n",
       "balance        0.0055      0.000     24.952      0.000         0.005     0.006\n",
       "==============================================================================\n",
       "\"\"\""
      ]
     },
     "execution_count": 70,
     "metadata": {},
     "output_type": "execute_result"
    }
   ],
   "source": [
    "# Retrieve beta values from the model\n",
    "log_fit.summary()\n"
   ]
  },
  {
   "cell_type": "markdown",
   "metadata": {},
   "source": [
    "Using the beta values produced by the model, describe the relationship between `balance` and `default` (make sure to note the **p-value**, **direction**, and **units** of the coefficient):\n",
    "\n",
    "> * the coefficient = the beta\n",
    "> * this can be multiplicative to find the impact\n",
    "> * p value = 0"
   ]
  },
  {
   "cell_type": "markdown",
   "metadata": {},
   "source": [
    "# A More Interpretable Model (10 minutes)"
   ]
  },
  {
   "cell_type": "markdown",
   "metadata": {},
   "source": [
    "The proportional increase of .6% in the model above is a bit small to have a good intuitive sense of. However, we can easily change our units of analysis to make this more interpretable. In the section below, you should do the following:\n",
    "\n",
    "- Convert balance to units of \\$100 and re-run the regression (hint, you'll need to create a new column or copy your dataframe)\n",
    "- Extract the beta values from your model"
   ]
  },
  {
   "cell_type": "code",
   "execution_count": 74,
   "metadata": {
    "collapsed": false
   },
   "outputs": [],
   "source": [
    "# Convert balance to units of $100 and re-run the regression\n",
    "new_df = df.copy()\n",
    "new_df['balance'] = df['balance']/100"
   ]
  },
  {
   "cell_type": "code",
   "execution_count": 77,
   "metadata": {
    "collapsed": false,
    "scrolled": true
   },
   "outputs": [
    {
     "data": {
      "text/html": [
       "<table class=\"simpletable\">\n",
       "<caption>Generalized Linear Model Regression Results</caption>\n",
       "<tr>\n",
       "  <th>Dep. Variable:</th>       <td>default</td>     <th>  No. Observations:  </th>  <td> 10000</td> \n",
       "</tr>\n",
       "<tr>\n",
       "  <th>Model:</th>                 <td>GLM</td>       <th>  Df Residuals:      </th>  <td>  9998</td> \n",
       "</tr>\n",
       "<tr>\n",
       "  <th>Model Family:</th>       <td>Binomial</td>     <th>  Df Model:          </th>  <td>     1</td> \n",
       "</tr>\n",
       "<tr>\n",
       "  <th>Link Function:</th>        <td>logit</td>      <th>  Scale:             </th>    <td>1.0</td>  \n",
       "</tr>\n",
       "<tr>\n",
       "  <th>Method:</th>               <td>IRLS</td>       <th>  Log-Likelihood:    </th> <td> -798.23</td>\n",
       "</tr>\n",
       "<tr>\n",
       "  <th>Date:</th>           <td>Mon, 13 Feb 2017</td> <th>  Deviance:          </th> <td>  1596.5</td>\n",
       "</tr>\n",
       "<tr>\n",
       "  <th>Time:</th>               <td>15:16:06</td>     <th>  Pearson chi2:      </th> <td>7.15e+03</td>\n",
       "</tr>\n",
       "<tr>\n",
       "  <th>No. Iterations:</th>        <td>11</td>        <th>                     </th>     <td> </td>   \n",
       "</tr>\n",
       "</table>\n",
       "<table class=\"simpletable\">\n",
       "<tr>\n",
       "      <td></td>         <th>coef</th>     <th>std err</th>      <th>z</th>      <th>P>|z|</th> <th>[95.0% Conf. Int.]</th> \n",
       "</tr>\n",
       "<tr>\n",
       "  <th>Intercept</th> <td>  -10.6513</td> <td>    0.361</td> <td>  -29.491</td> <td> 0.000</td> <td>  -11.359    -9.943</td>\n",
       "</tr>\n",
       "<tr>\n",
       "  <th>balance</th>   <td>    0.5499</td> <td>    0.022</td> <td>   24.952</td> <td> 0.000</td> <td>    0.507     0.593</td>\n",
       "</tr>\n",
       "</table>"
      ],
      "text/plain": [
       "<class 'statsmodels.iolib.summary.Summary'>\n",
       "\"\"\"\n",
       "                 Generalized Linear Model Regression Results                  \n",
       "==============================================================================\n",
       "Dep. Variable:                default   No. Observations:                10000\n",
       "Model:                            GLM   Df Residuals:                     9998\n",
       "Model Family:                Binomial   Df Model:                            1\n",
       "Link Function:                  logit   Scale:                             1.0\n",
       "Method:                          IRLS   Log-Likelihood:                -798.23\n",
       "Date:                Mon, 13 Feb 2017   Deviance:                       1596.5\n",
       "Time:                        15:16:06   Pearson chi2:                 7.15e+03\n",
       "No. Iterations:                    11                                         \n",
       "==============================================================================\n",
       "                 coef    std err          z      P>|z|      [95.0% Conf. Int.]\n",
       "------------------------------------------------------------------------------\n",
       "Intercept    -10.6513      0.361    -29.491      0.000       -11.359    -9.943\n",
       "balance        0.5499      0.022     24.952      0.000         0.507     0.593\n",
       "==============================================================================\n",
       "\"\"\""
      ]
     },
     "execution_count": 77,
     "metadata": {},
     "output_type": "execute_result"
    }
   ],
   "source": [
    "# Extract the beta values from you model\n",
    "new_log_fit = smf.glm(formula='default ~ balance', data=new_df, family=sm.families.Binomial()).fit()\n",
    "new_log_fit.summary()"
   ]
  },
  {
   "cell_type": "markdown",
   "metadata": {},
   "source": [
    "What is the interpretation of your beta value from your regression?\n",
    "\n",
    "> * now beta = .55"
   ]
  },
  {
   "cell_type": "markdown",
   "metadata": {},
   "source": [
    "# Evaluation Metrics (10 minutes)\n",
    "\n",
    "In the section above, you've developed a strategy for interpreting the **betas** produced by your model. However, you also need to assess how well your model fits your data. In order to do this, we need to return to the purpose of our model. We want to **predict if people will default on their loans**. Before diving back into the code, we'll introduce a **confusion matrix** to represent the relationship between the data and our estimates."
   ]
  },
  {
   "cell_type": "markdown",
   "metadata": {},
   "source": [
    "## Sensitivity and Specificity\n",
    "The concepts of sensitivity and specificity express how well your model accurately predicts positive and negative classes. In order to compute these, it is easy to first build a **confusion matrix** to show the total number of cases that were accurately predicted (and those that were not).\n",
    "\n",
    "  <table>\n",
    "  <tr>\n",
    "    <td/>\n",
    "    <td/>\n",
    "    <td colspan=\"2\"><em>Predicted Class</em></td>\n",
    "    <td/>\n",
    "  </tr>\n",
    "  <tr>\n",
    "    <td/>\n",
    "    <td/>\n",
    "    <td><strong>Negative (-)</strong></td>\n",
    "    <td><strong>Positive (+)</strong></td>\n",
    "    <td><strong>Total</strong></td>\n",
    "  </tr>\n",
    "  <tr>\n",
    "    <td rowspan=\"2\"><em>True Class</em></td>\n",
    "    <td><strong>Negative (-)</strong></td>\n",
    "    <td>True Negative (TN)</td>\n",
    "    <td>False Positives (FP)</td>\n",
    "    <td>Total non-cases (N)</td>\n",
    "  </tr>\n",
    "  <tr>\n",
    "    <td><strong>Positive (+)</strong></td>\n",
    "    <td>False Negatives (FN)</td>\n",
    "    <td>True Positives (TP)</td>\n",
    "    <td>Total cases (P)</td>\n",
    "  </tr>\n",
    "</table>\n"
   ]
  },
  {
   "cell_type": "markdown",
   "metadata": {},
   "source": [
    "In the matrix above, the rows represent the **data**, while the columns represent the **predictions**. For example, the top left cell (_True Negatives_) represents the number of instances in which someone did not default, and the model predicted that they did not default. Here are the definitions of each cell:\n",
    "\n",
    "- **True Positives**: The instances in which your model **predicts** a case (and the case **is true** in the data)\n",
    "- **False Positives**: The instances in which your model **predicts** a case (and the case **is not** true in the data)\n",
    "- **False Negatives**: The instances in which your model **does not** predict a case (and the case **is true** in the data)\n",
    "- **True Negatives**: The instances in which your model **does not** predict a case (and the case **is not** true in the data)"
   ]
  },
  {
   "cell_type": "markdown",
   "metadata": {},
   "source": [
    "Using those values, we can compute the **sensitivity** and **specificity** of our model:\n",
    "\n",
    "\\begin{equation*}\n",
    "Sensitivity = \\frac { True Positives }{ True Positives+False Negatives } \n",
    "\\end{equation*}\n",
    "\n",
    "\\begin{equation*}\n",
    "Specificity = \\frac { TrueNegatives }{ TrueNegatives+FalsePositives } \n",
    "\\end{equation*}"
   ]
  },
  {
   "cell_type": "markdown",
   "metadata": {},
   "source": [
    "These two metrics lend important insights regarding the quality of our model:\n",
    "\n",
    "> _**Sensitivity**_, also referred to as the _true positive rate_, tells us, of all of the **cases in the data**, how many did we accurately predict? This indicates the model's **ability to detect cases**. In other words, how **sensitively** does the model pick up on cases?\n",
    "\n",
    "> _**Specificity**_, also referred to as the _true negative rate_, tells us, of all of the **non-cases in the data**, how many did we accurately predict? This indicates the model's ability to assign non-cases.\n",
    "\n",
    "These metrics are directly used to calculate **Type I and Type II error rate**, which are analagous to Type I and Type II errors in statistical tests (incorrectly reject a true null hypothesis, incorrectly accept a false null hypothesis). \n",
    "\n",
    "> **Type I Error** rate is the proportion of instances which are **incorrectly classified as positive cases** (relative to the total number of **negative cases**). It is calculated as $1-specificity$, or simply the false positives relative to the total non-cases in the data, $FP/N$.\n",
    "\n",
    "> **Type II Error** rate is the proportion of instances which are **incorrectly classified as negative cases** (relative to the total number of **positive cases**). It is calculated as $1-sensitivity$, or simply the false negatives relative to the total cases in the data, $FN/P$.\n"
   ]
  },
  {
   "cell_type": "markdown",
   "metadata": {
    "collapsed": true
   },
   "source": [
    "# Metric Calculation (15 minutes)"
   ]
  },
  {
   "cell_type": "markdown",
   "metadata": {},
   "source": [
    "In this section, you'll evaluate the fit of your model by calculating the following:\n",
    "\n",
    "- First, using a threshold of .5, use your model to predict a binary outcome (each case as 0 or 1)\n",
    "- What is the **accuracy** of your model (how often does the prediction match the data)?\n",
    "- What are the sensitivity, specificity, Type I error rate, and Type II error rates?"
   ]
  },
  {
   "cell_type": "code",
   "execution_count": 83,
   "metadata": {
    "collapsed": false
   },
   "outputs": [],
   "source": [
    "# First, using a threshold of .5, use your model to predict a binary outcome (each case as 0 or 1)\n"
   ]
  },
  {
   "cell_type": "code",
   "execution_count": 84,
   "metadata": {
    "collapsed": false
   },
   "outputs": [],
   "source": [
    "# What is the accuracy of your model (how often does the prediction match the data)?\n"
   ]
  },
  {
   "cell_type": "code",
   "execution_count": 85,
   "metadata": {
    "collapsed": false
   },
   "outputs": [],
   "source": [
    "# What are the sensitivity, specificity, Type I error rate, and Type II error rates?\n"
   ]
  },
  {
   "cell_type": "markdown",
   "metadata": {},
   "source": [
    "What is your interpretation of these values?\n",
    "\n",
    "> Your insights here"
   ]
  },
  {
   "cell_type": "markdown",
   "metadata": {},
   "source": [
    "## ROC Curve (10 minutes)\n",
    "\n",
    "It is common to compare the _true positive rate_ (sensitivity) to the _false positive rate_ (1 - specificity) at each **threshold** for classification in an [ROC Curve](https://en.wikipedia.org/wiki/Receiver_operating_characteristic). This [interactive visualization](http://www.navan.name/roc/) may help you better understand the relationship between thresholds and the ROC. In this section, you'll do the following:\n",
    "\n",
    "- Generate data for the ROC curve using the `metrics.roc_curve` function\n",
    "- Draw your ROC curve\n",
    "- Calculate the area under your ROC curve using the `metrics.roc_auc_curve` function"
   ]
  },
  {
   "cell_type": "code",
   "execution_count": 86,
   "metadata": {
    "collapsed": false
   },
   "outputs": [],
   "source": [
    "# Generate data for the ROC curve using the `metrics.roc_curve` function\n"
   ]
  },
  {
   "cell_type": "code",
   "execution_count": 87,
   "metadata": {
    "collapsed": false
   },
   "outputs": [],
   "source": [
    "# Draw your ROC curve\n"
   ]
  },
  {
   "cell_type": "code",
   "execution_count": 88,
   "metadata": {
    "collapsed": false
   },
   "outputs": [],
   "source": [
    "# Calculate the area under your ROC curve using the metrics.roc_auc_curve function\n"
   ]
  }
 ],
 "metadata": {
  "anaconda-cloud": {},
  "kernelspec": {
   "display_name": "Python [default]",
   "language": "python",
   "name": "python3"
  },
  "language_info": {
   "codemirror_mode": {
    "name": "ipython",
    "version": 3
   },
   "file_extension": ".py",
   "mimetype": "text/x-python",
   "name": "python",
   "nbconvert_exporter": "python",
   "pygments_lexer": "ipython3",
   "version": "3.5.2"
  }
 },
 "nbformat": 4,
 "nbformat_minor": 0
}
